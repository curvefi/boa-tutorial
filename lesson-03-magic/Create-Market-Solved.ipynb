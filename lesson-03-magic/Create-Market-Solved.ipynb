{
 "cells": [
  {
   "cell_type": "markdown",
   "id": "8272f669-196f-40e5-be90-a9b9d94c436e",
   "metadata": {},
   "source": [
    "## Setup"
   ]
  },
  {
   "cell_type": "code",
   "execution_count": 1,
   "id": "81bf8fdf-4b08-4bcf-b330-a197313e8d9a",
   "metadata": {},
   "outputs": [],
   "source": [
    "import boa, os\n",
    "from snekmate.tokens import ERC20\n",
    "from dotenv import load_dotenv\n",
    "\n",
    "%reload_ext boa.ipython\n",
    "\n",
    "# Constants\n",
    "load_dotenv(\".env\")\n",
    "RPC_URL = f\"https://arb-mainnet.g.alchemy.com/v2/{os.getenv('ARB_ALCHEMY_KEY')}\"\n",
    "ARBISCAN_KEY = os.getenv(\"ARBISCAN_KEY\")\n",
    "ARBISCAN_API = \"https://api.arbiscan.io/api\"\n",
    "FACTORY_ADDR = \"0xcaec110c784c9df37240a8ce096d352a75922dea\""
   ]
  },
  {
   "cell_type": "code",
   "execution_count": 2,
   "id": "191a52af-167b-4a82-ae21-a0793c9bd23d",
   "metadata": {},
   "outputs": [
    {
     "name": "stdout",
     "output_type": "stream",
     "text": [
      "Current block: 213969478\n"
     ]
    }
   ],
   "source": [
    "# Fork an RPC Node\n",
    "boa.env.fork(RPC_URL)\n",
    "print(f\"Current block: {boa.env.evm.patch.block_number}\")"
   ]
  },
  {
   "cell_type": "code",
   "execution_count": 3,
   "id": "a94383eb-0ee7-4e50-a253-2e32f67ed5cf",
   "metadata": {},
   "outputs": [
    {
     "name": "stdout",
     "output_type": "stream",
     "text": [
      "Deployed to 0x0880cf17Bd263d3d3a5c09D2D86cCecA3CcbD97c and minted\n",
      "100,000,000 $VWIF tokens to token owner 0x00dE89C733555886f785b0C32b498300297e481F\n"
     ]
    }
   ],
   "source": [
    "# Redeploy collateral token from lesson 1\n",
    "collateral_token = ERC20.deploy(\"Vyper wif hat\", \"VWIF\", 100_000_000, \"\", \"\")\n",
    "print(\n",
    "    f\"Deployed to {collateral_token.address} \"\n",
    "    + f\"and minted\\n{collateral_token.balanceOf(collateral_token.owner()) / 10**18:,.0f} \"\n",
    "    + f\"${collateral_token.symbol()} \"\n",
    "    + f\"tokens to token owner {collateral_token.owner()}\"\n",
    ")"
   ]
  },
  {
   "cell_type": "markdown",
   "id": "e6132a9f-c15d-46aa-85a2-269258af9b1e",
   "metadata": {},
   "source": [
    "## Load Llama Lend Factory"
   ]
  },
  {
   "cell_type": "code",
   "execution_count": 4,
   "id": "51326f7e-4250-4ef9-a27d-2b26b587307d",
   "metadata": {},
   "outputs": [
    {
     "name": "stdout",
     "output_type": "stream",
     "text": [
      "Currently there are 9 Llama Lend markets on Arbitrum\n"
     ]
    }
   ],
   "source": [
    "# Load Factory Contract\n",
    "factory = boa.from_etherscan(FACTORY_ADDR, \"Factory\", ARBISCAN_API, ARBISCAN_KEY)\n",
    "print(f\"Currently there are {factory.market_count()} Llama Lend markets on Arbitrum\")"
   ]
  },
  {
   "cell_type": "markdown",
   "id": "c2f75d08-dacf-431e-bf66-44d113ba08ad",
   "metadata": {},
   "source": [
    "## Deploy Oracle\n",
    "*May need to run `jupyter lab extension enable boa` or `jupyter lab extension enable vyper`*\n",
    "\n",
    "*Contract from: [github/@curvefi/curve-stablecoin](https://github.com/curvefi/curve-stablecoin/blob/master/contracts/testing/DummyPriceOracle.vy)*"
   ]
  },
  {
   "cell_type": "code",
   "execution_count": 5,
   "id": "2e0fd9f6-955f-4261-8ca7-40bde3652c86",
   "metadata": {},
   "outputs": [
    {
     "data": {
      "text/plain": [
       "<boa.contracts.vyper.vyper_contract.VyperDeployer at 0x119b04e60>"
      ]
     },
     "execution_count": 5,
     "metadata": {},
     "output_type": "execute_result"
    }
   ],
   "source": [
    "%%vyper dummy_oracle\n",
    "\n",
    "price: public(uint256)\n",
    "ADMIN: immutable(address)\n",
    "\n",
    "@external\n",
    "def __init__(admin: address, price: uint256):\n",
    "    self.price = price\n",
    "    ADMIN = admin\n",
    "\n",
    "@external\n",
    "def price_w() -> uint256:\n",
    "    # State-changing price oracle in case we want to include EMA\n",
    "    return self.price\n",
    "\n",
    "@external\n",
    "def set_price(price: uint256):\n",
    "    assert msg.sender == ADMIN\n",
    "    self.price = price"
   ]
  },
  {
   "cell_type": "code",
   "execution_count": 6,
   "id": "2bb61657-5967-4a66-a56c-455137a6f94f",
   "metadata": {},
   "outputs": [
    {
     "name": "stdout",
     "output_type": "stream",
     "text": [
      "Dummy oracle deployed to 0x2cb6bCe32aeF4eD506382896e702DE7Ff109D9E9 with oracle price of 1.0\n"
     ]
    }
   ],
   "source": [
    "# Deploy Dummy Oracle\n",
    "oracle = dummy_oracle.deploy(boa.env.eoa, 10**18)\n",
    "print(\n",
    "    f\"Dummy oracle deployed to {oracle.address} with oracle price of {oracle.price_w() / 10**18}\"\n",
    ")"
   ]
  },
  {
   "cell_type": "markdown",
   "id": "4d8fa92e-3688-4e51-b60b-bf49df3f417a",
   "metadata": {},
   "source": [
    "## Launch Pool"
   ]
  },
  {
   "cell_type": "code",
   "execution_count": 7,
   "id": "4650a54b-4a97-4e95-81d6-114329e4cdef",
   "metadata": {},
   "outputs": [
    {
     "name": "stdout",
     "output_type": "stream",
     "text": [
      "Deployed to 0xd3cA9BEc3e681b0f578FD87f20eBCf2B7e0bb739\n",
      "There are now 10 markets on Llama Lend\n"
     ]
    }
   ],
   "source": [
    "# Deploy\n",
    "vault_addr = factory.create(\n",
    "    factory.STABLECOIN(),\n",
    "    collateral_token,\n",
    "    1000,\n",
    "    500000000000000,\n",
    "    13000000000000000,\n",
    "    10000000000000000,\n",
    "    oracle,\n",
    "    \"VyperWif\",\n",
    "    0,\n",
    "    4756468797,\n",
    ")\n",
    "print(\n",
    "    f\"Deployed to {vault_addr}\\nThere are now {factory.market_count()} markets on Llama Lend\"\n",
    ")"
   ]
  }
 ],
 "metadata": {
  "kernelspec": {
   "display_name": "Python 3 (ipykernel)",
   "language": "python",
   "name": "python3"
  },
  "language_info": {
   "codemirror_mode": {
    "name": "ipython",
    "version": 3
   },
   "file_extension": ".py",
   "mimetype": "text/x-python",
   "name": "python",
   "nbconvert_exporter": "python",
   "pygments_lexer": "ipython3",
   "version": "3.12.3"
  }
 },
 "nbformat": 4,
 "nbformat_minor": 5
}
