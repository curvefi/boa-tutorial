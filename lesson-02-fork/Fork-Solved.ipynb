{
 "cells": [
  {
   "cell_type": "markdown",
   "id": "8272f669-196f-40e5-be90-a9b9d94c436e",
   "metadata": {},
   "source": [
    "## Setup"
   ]
  },
  {
   "cell_type": "code",
   "execution_count": 1,
   "id": "81bf8fdf-4b08-4bcf-b330-a197313e8d9a",
   "metadata": {},
   "outputs": [],
   "source": [
    "import boa, os\n",
    "from snekmate.tokens import ERC20\n",
    "from dotenv import load_dotenv\n",
    "\n",
    "# Constants\n",
    "load_dotenv(\".env\")\n",
    "RPC_URL = f\"https://arb-mainnet.g.alchemy.com/v2/{os.getenv('ARB_ALCHEMY_KEY')}\"\n",
    "ARBISCAN_KEY = os.getenv(\"ARBISCAN_KEY\")\n",
    "ARBISCAN_API = \"https://api.arbiscan.io/api\"\n",
    "FACTORY_ADDR = \"0xcaec110c784c9df37240a8ce096d352a75922dea\""
   ]
  },
  {
   "cell_type": "code",
   "execution_count": 2,
   "id": "191a52af-167b-4a82-ae21-a0793c9bd23d",
   "metadata": {},
   "outputs": [
    {
     "name": "stdout",
     "output_type": "stream",
     "text": [
      "Current block: 213934647\n"
     ]
    }
   ],
   "source": [
    "# Fork an RPC Node\n",
    "boa.env.fork(RPC_URL)\n",
    "print(f\"Current block: {boa.env.evm.patch.block_number}\")"
   ]
  },
  {
   "cell_type": "markdown",
   "id": "0417eea1-d2c6-4f74-b0ba-95680c82436d",
   "metadata": {},
   "source": [
    "## Deploy Collateral Token"
   ]
  },
  {
   "cell_type": "code",
   "execution_count": 3,
   "id": "a94383eb-0ee7-4e50-a253-2e32f67ed5cf",
   "metadata": {},
   "outputs": [
    {
     "name": "stdout",
     "output_type": "stream",
     "text": [
      "Deployed to 0x0880cf17Bd263d3d3a5c09D2D86cCecA3CcbD97c and minted\n",
      "100,000,000 $VWIF tokens to token owner 0x00dE89C733555886f785b0C32b498300297e481F\n"
     ]
    }
   ],
   "source": [
    "# Covered in Lesson 1:\n",
    "# https://github.com/curvefi/boa-tutorial/tree/main/lesson-01-launch\n",
    "# https://youtu.be/_tqBRPZOvfM\n",
    "collateral_token = ERC20.deploy(\"Vyper wif hat\", \"VWIF\", 100_000_000, \"\", \"\")\n",
    "print(\n",
    "    f\"Deployed to {collateral_token.address} \"\n",
    "    + f\"and minted\\n{collateral_token.balanceOf(collateral_token.owner()) / 10**18:,.0f} \"\n",
    "    + f\"${collateral_token.symbol()} \"\n",
    "    + f\"tokens to token owner {collateral_token.owner()}\"\n",
    ")"
   ]
  },
  {
   "cell_type": "markdown",
   "id": "e6132a9f-c15d-46aa-85a2-269258af9b1e",
   "metadata": {},
   "source": [
    "## Load Llama Lend Factory"
   ]
  },
  {
   "cell_type": "code",
   "execution_count": 4,
   "id": "51326f7e-4250-4ef9-a27d-2b26b587307d",
   "metadata": {},
   "outputs": [
    {
     "name": "stdout",
     "output_type": "stream",
     "text": [
      "Currently there are 9 Llama Lend markets on Arbitrum\n"
     ]
    }
   ],
   "source": [
    "# Load Factory Contract\n",
    "factory = boa.from_etherscan(FACTORY_ADDR, \"Factory\", ARBISCAN_API, ARBISCAN_KEY)\n",
    "print(f\"Currently there are {factory.market_count()} Llama Lend markets on Arbitrum\")"
   ]
  }
 ],
 "metadata": {
  "kernelspec": {
   "display_name": "Python 3 (ipykernel)",
   "language": "python",
   "name": "python3"
  },
  "language_info": {
   "codemirror_mode": {
    "name": "ipython",
    "version": 3
   },
   "file_extension": ".py",
   "mimetype": "text/x-python",
   "name": "python",
   "nbconvert_exporter": "python",
   "pygments_lexer": "ipython3",
   "version": "3.12.3"
  }
 },
 "nbformat": 4,
 "nbformat_minor": 5
}
