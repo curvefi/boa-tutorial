{
 "cells": [
  {
   "cell_type": "code",
   "execution_count": 1,
   "id": "89d25a64-4beb-45df-b298-efe430687b22",
   "metadata": {},
   "outputs": [
    {
     "name": "stdout",
     "output_type": "stream",
     "text": [
      "Loaded from lesson 3 (https://www.youtube.com/watch?v=yf5gbd4sK2c)\n",
      " • Factory: 0xcaEC110C784c9DF37240a8Ce096D352A75922DeA\n",
      " • Vault: 0xC8248953429d707C6A2815653ECa89846Ffaa63b\n",
      " • VyperWIF: 0x0880cf17Bd263d3d3a5c09D2D86cCecA3CcbD97c\n"
     ]
    }
   ],
   "source": [
    "import boa, os\n",
    "from dotenv import load_dotenv\n",
    "from redux import display_erc20, lesson3\n",
    "\n",
    "# Constants\n",
    "load_dotenv(\".env\")\n",
    "RPC_URL = f\"https://arb-mainnet.g.alchemy.com/v2/{os.getenv('ARB_ALCHEMY_KEY')}\"\n",
    "ARBISCAN_KEY = os.getenv(\"ARBISCAN_KEY\")\n",
    "ARBISCAN_API = \"https://api.arbiscan.io/api\"\n",
    "\n",
    "user = boa.env.eoa\n",
    "vault_addr, collateral_token, factory = lesson3()\n",
    "\n",
    "print(f\"Loaded from lesson 3 (https://www.youtube.com/watch?v=yf5gbd4sK2c)\")\n",
    "print(f\" • Factory: {factory.address}\\n • Vault: {vault_addr}\\n • VyperWIF: {collateral_token.address}\")"
   ]
  },
  {
   "cell_type": "markdown",
   "id": "1973def9-ed78-4c9c-b09d-07aa498bcfb2",
   "metadata": {},
   "source": [
    "## Load the Llama Lend Vault and Controller from a Blueprint ABI"
   ]
  },
  {
   "cell_type": "code",
   "execution_count": 2,
   "id": "68d5c4c6-70a8-4183-b4d4-53b81bb09dbc",
   "metadata": {},
   "outputs": [
    {
     "name": "stdout",
     "output_type": "stream",
     "text": [
      "VyperWifVault loaded: 0xC8248953429d707C6A2815653ECa89846Ffaa63b\n",
      "VyperWifController loaded: 0x83B85f3b08B5EE58dE9EF9604e7Eec087FCCf130\n",
      "VyperWifAMM loaded: 0x9216944b568A53CF63dbF15D93f0F93F6ACb09B7\n"
     ]
    }
   ],
   "source": [
    "from boa.contracts.abi.abi_contract import ABIContractFactory\n",
    "from boa.explorer import fetch_abi_from_etherscan\n",
    "\n",
    "\n",
    "def load_from_impl(contract_addr, abi_addr, name=None):\n",
    "    if name is None:\n",
    "        name = contract_addr\n",
    "    abi = fetch_abi_from_etherscan(abi_addr, ARBISCAN_API, ARBISCAN_KEY)\n",
    "    return ABIContractFactory.from_abi_dict(abi, name=name).at(contract_addr)\n",
    "\n",
    "\n",
    "vault = load_from_impl(vault_addr, factory.vault_impl(), \"VyperWifVault\")\n",
    "controller = load_from_impl(vault.controller(), factory.controller_impl(), \"VyperWifController\")\n",
    "amm = load_from_impl(vault.amm(), factory.amm_impl(), 'VyperWifAMM')\n",
    "\n",
    "print(f\"{vault._name} loaded: {vault.address}\")\n",
    "print(f\"{controller._name} loaded: {controller.address}\")\n",
    "print(f\"{amm._name} loaded: {amm.address}\")"
   ]
  },
  {
   "cell_type": "markdown",
   "id": "d5b964f0-3c83-427a-ba62-a1eb2e2f9072",
   "metadata": {},
   "source": [
    "## Mint crvUSD"
   ]
  },
  {
   "cell_type": "code",
   "execution_count": 3,
   "id": "1d80526c-9b14-4643-b17a-5173d852ce06",
   "metadata": {},
   "outputs": [
    {
     "name": "stdout",
     "output_type": "stream",
     "text": [
      "Init $crvUSD balance: 0\n",
      "Final $crvUSD balance: 100,000\n"
     ]
    }
   ],
   "source": [
    "vault_crvusd_balance = 100_000 * 10 ** 18\n",
    "crvusd = boa.from_etherscan(factory.STABLECOIN(), \"crvUSD\", ARBISCAN_API, ARBISCAN_KEY)\n",
    "\n",
    "\n",
    "def bridge_mint(crvusd, user, amount):\n",
    "    with boa.env.prank(crvusd.l2Gateway()):\n",
    "        crvusd.bridgeMint(user, amount)\n",
    "\n",
    "\n",
    "print(f\"Init $crvUSD balance: {display_erc20(crvusd.balanceOf(user))}\")\n",
    "bridge_mint(crvusd, user, vault_crvusd_balance)\n",
    "print(f\"Final $crvUSD balance: {display_erc20(crvusd.balanceOf(user))}\")"
   ]
  },
  {
   "cell_type": "markdown",
   "id": "17afffba-98ac-476f-a7ae-7a0ed567b891",
   "metadata": {},
   "source": [
    "## Deposit crvUSD to the Vault Contract"
   ]
  },
  {
   "cell_type": "code",
   "execution_count": 4,
   "id": "ca62fd79-0433-4821-bcda-1e1ab4eed8a6",
   "metadata": {},
   "outputs": [
    {
     "name": "stdout",
     "output_type": "stream",
     "text": [
      "Init $crvUSD balance\n",
      " • User: 100,000\n",
      " • Controller: 0\n",
      "\n",
      "Final $crvUSD balance\n",
      " • User: 0\n",
      " • Controller: 100,000\n"
     ]
    }
   ],
   "source": [
    "print(\"Init $crvUSD balance\")\n",
    "print(f\" • User: {display_erc20(crvusd.balanceOf(user))}\")\n",
    "print(f\" • Controller: {display_erc20(crvusd.balanceOf(controller))}\\n\")\n",
    "\n",
    "# Approve\n",
    "crvusd.approve(vault, crvusd.balanceOf(user))\n",
    "\n",
    "# Supply $crvUSD\n",
    "vault.deposit(crvusd.balanceOf(user))\n",
    "\n",
    "print(\"Final $crvUSD balance\")\n",
    "print(f\" • User: {display_erc20(crvusd.balanceOf(user))}\")\n",
    "print(f\" • Controller: {display_erc20(crvusd.balanceOf(controller))}\")"
   ]
  },
  {
   "cell_type": "markdown",
   "id": "6394b1de-85ec-45f6-9929-29ad660cdc59",
   "metadata": {},
   "source": [
    "## Create a $crvUSD loan using your VyperWIF memecoin as collateral"
   ]
  },
  {
   "cell_type": "code",
   "execution_count": 5,
   "id": "15db3bc5-b47c-4e8e-8cbd-eef1410d51dd",
   "metadata": {},
   "outputs": [
    {
     "name": "stdout",
     "output_type": "stream",
     "text": [
      "Init $VyperWIF balance \n",
      " • User: 100,000,000\n",
      " • AMM: 0\n",
      "\n",
      "Final $VyperWIF balance \n",
      " • User: 99,900,000\n",
      " • AMM: 100,000\n"
     ]
    }
   ],
   "source": [
    "print(f\"Init $VyperWIF balance \\n • User: {display_erc20(collateral_token.balanceOf(user))}\") \n",
    "print(f\" • AMM: {display_erc20(collateral_token.balanceOf(vault.amm()))}\\n\")\n",
    "\n",
    "n_bands = 4\n",
    "\n",
    "# Approve\n",
    "collateral_amount = 100_000 * 10 ** 18\n",
    "borrow_amount = controller.max_borrowable(collateral_amount, n_bands)\n",
    "collateral_token.approve(controller, collateral_amount)\n",
    "\n",
    "# Borrow\n",
    "controller.create_loan(collateral_amount, borrow_amount, n_bands)\n",
    "\n",
    "print(f\"Final $VyperWIF balance \\n • User: {display_erc20(collateral_token.balanceOf(user))}\")\n",
    "print(f\" • AMM: {display_erc20(collateral_token.balanceOf(vault.amm()))}\")"
   ]
  },
  {
   "cell_type": "markdown",
   "id": "8881e4c5-6840-402c-8c8c-a6a7f47dd185",
   "metadata": {},
   "source": [
    "## Create Curve Pool"
   ]
  },
  {
   "cell_type": "code",
   "execution_count": 6,
   "id": "bca671e5-903f-4ac5-a69d-57f03cb8fe20",
   "metadata": {},
   "outputs": [
    {
     "name": "stdout",
     "output_type": "stream",
     "text": [
      "Successfully deployed SnekWIF/crvUSD to 0x2C7BDFb68fc4A36661E4E7A5F5F7Aa636f7B99df\n"
     ]
    }
   ],
   "source": [
    "pool_factory = boa.from_etherscan('0x98ee851a00abee0d95d08cf4ca2bdce32aeaaf7f', \"Factory\", ARBISCAN_API, ARBISCAN_KEY)\n",
    "init_count = pool_factory.pool_count()\n",
    "implementation_id = 0\n",
    "\n",
    "\n",
    "pool_factory.deploy_pool('SnekWIF/crvUSD', \n",
    "                         'SnekUSD', \n",
    "                         [factory.STABLECOIN(), collateral_token],\n",
    "                         implementation_id, \n",
    "                         400_000,                    # A Parameter \n",
    "                         int(0.000145 * 10 ** 18),   # Gamma\n",
    "                         int(0.26 * 10 ** 8),        # Mid Fee\n",
    "                         int(0.45 * 10 ** 8),        # Out Fee\n",
    "                         int(0.00023 * 10 ** 18),    # Fee Gamma\n",
    "                         int(0.000002 * 10 ** 18),   # Allowed Extra Profit\n",
    "                         int(0.000146 * 10 ** 18),   # Adjustment Step \n",
    "                         600,                        # Moving Average Time\n",
    "                         amm.price_oracle()\n",
    "                        )\n",
    "\n",
    "assert pool_factory.pool_count() > init_count\n",
    "\n",
    "liquidity_pool_addr = pool_factory.pool_list(pool_factory.pool_count() - 1)\n",
    "liquidity_pool = load_from_impl(\n",
    "    liquidity_pool_addr, \n",
    "    pool_factory.pool_implementations(implementation_id), \n",
    "    'VyperWIFPool'\n",
    ")\n",
    "\n",
    "print(f\"Successfully deployed {liquidity_pool.name()} to {liquidity_pool_addr}\")"
   ]
  },
  {
   "cell_type": "markdown",
   "id": "3d210e5d-66b8-496b-9a9d-4fdfe480383d",
   "metadata": {},
   "source": [
    "## Seed Curve Pool"
   ]
  },
  {
   "cell_type": "code",
   "execution_count": 7,
   "id": "b8d240b7-c921-4220-9d5e-f6f14dfc395d",
   "metadata": {},
   "outputs": [
    {
     "name": "stdout",
     "output_type": "stream",
     "text": [
      "Deposited and received 10,000,000 LP tokens\n"
     ]
    }
   ],
   "source": [
    "pool_crvusd_balance = int(10_000_000 * 10 ** 18)\n",
    "pool_token_balance = int(amm.price_oracle() * pool_crvusd_balance / 10 ** 18)\n",
    "\n",
    "assert collateral_token.balanceOf(user) > pool_token_balance\n",
    "bridge_mint(crvusd, user, pool_crvusd_balance)\n",
    "\n",
    "# Approve\n",
    "crvusd.approve(liquidity_pool, pool_crvusd_balance)\n",
    "collateral_token.approve(liquidity_pool, pool_token_balance)\n",
    "\n",
    "# Seed\n",
    "liquidity_pool.add_liquidity([pool_crvusd_balance, pool_token_balance], 0)\n",
    "print(f\"Deposited and received {display_erc20(liquidity_pool.balanceOf(user))} LP tokens\")"
   ]
  }
 ],
 "metadata": {
  "kernelspec": {
   "display_name": "Python 3 (ipykernel)",
   "language": "python",
   "name": "python3"
  },
  "language_info": {
   "codemirror_mode": {
    "name": "ipython",
    "version": 3
   },
   "file_extension": ".py",
   "mimetype": "text/x-python",
   "name": "python",
   "nbconvert_exporter": "python",
   "pygments_lexer": "ipython3",
   "version": "3.12.3"
  }
 },
 "nbformat": 4,
 "nbformat_minor": 5
}
